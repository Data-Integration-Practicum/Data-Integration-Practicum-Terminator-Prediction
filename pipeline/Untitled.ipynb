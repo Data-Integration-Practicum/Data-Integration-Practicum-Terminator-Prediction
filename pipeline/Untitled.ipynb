{
 "cells": [
  {
   "cell_type": "code",
   "execution_count": 3,
   "metadata": {
    "collapsed": false
   },
   "outputs": [
    {
     "name": "stdout",
     "output_type": "stream",
     "text": [
      "Features calculated\n"
     ]
    }
   ],
   "source": [
    "from sklearn.tree import DecisionTreeClassifier\n",
    "from sklearn.ensemble import RandomForestClassifier\n",
    "from sklearn.linear_model import LogisticRegression\n",
    "\n",
    "import sys\n",
    "import numpy\n",
    "import random\n",
    "from sklearn.externals import joblib\n",
    "from sklearn import cross_validation\n",
    "\n",
    "def GCFeat(seq):\n",
    "    nGC = [0,0,0,0,0,0,0,0]\n",
    "    for seg in xrange(8):\n",
    "        nGC[seg] += seq[seg*50:(seg+1)*50].count(\"G\") + seq[seg*50:(seg+1)*50].count(\"C\")\n",
    "    return [1.0 * n / len(seq) for n in nGC] #len(seq) has to be 400\n",
    "\n",
    "def readMatrix(fname):\n",
    "    #print fname\n",
    "    with open(fname) as F:\n",
    "        M = []\n",
    "        line = F.readline()\n",
    "        while line != \"\":\n",
    "            M.append(line.strip().split())\n",
    "            line = F.readline()\n",
    "    return M\n",
    "    \n",
    "def computeMaxScore(PSSM, seq, letters={\"A\":0,\"C\":1,\"T\":2,\"G\":3}):\n",
    "    scores = []\n",
    "    for start in xrange(len(seq)-len(PSSM[0])):\n",
    "        score = 0.0\n",
    "        for nt in xrange(len(PSSM[0])):\n",
    "            score += int(PSSM[letters[seq[start+nt]]][nt])  \n",
    "        scores.append(score)  \n",
    "    return max(scores)  \n",
    "    \n",
    "#####    \n",
    "        \n",
    "with open(\"negative.fa\") as F:\n",
    "    neg=F.readlines()\n",
    "nneg = len(neg)/2\n",
    "with open(\"trimmedseqs.fa\") as F:\n",
    "    pos=F.readlines()\n",
    "npos= len(pos)/2\n",
    "S = random.sample(range(nneg),npos)\n",
    "neg = [neg[i*2+1] for i in S]\n",
    "nmotifs = 4 #sys.argv[1]\n",
    "\n",
    "#Calculate Features\n",
    "allPSSMFiles = [\"segment\"+str(i)+\"-\"+str(j) for i in xrange(1,9) for j in xrange(nmotifs)]\n",
    "allPSSMs = [readMatrix(f) for f in allPSSMFiles]\n",
    "PosFeatures = [GCFeat(seq) for seq in pos if seq[0] != '>'] #GCFeat returns a list of all 8\n",
    "NegFeatures = [GCFeat(seq) for seq in neg if seq[0] != '>']\n",
    "\n",
    "for M in allPSSMs:\n",
    "    for i in xrange(npos): \n",
    "        PosFeatures[i].append(computeMaxScore(M,pos[i*2+1]))\n",
    "        NegFeatures[i].append(computeMaxScore(M,neg[i]))\n",
    "print \"Features calculated\"\n",
    "\n",
    "#X: each sample is a row, each column is a feature\n",
    "X = numpy.array(list(PosFeatures) + list(random.sample(NegFeatures,npos)), dtype=numpy.float)\n",
    "#y: labels\n",
    "y = [1 for x in xrange(npos)] + [0 for x in xrange(npos)]    \n",
    "y = numpy.array(y)"
   ]
  },
  {
   "cell_type": "code",
   "execution_count": 9,
   "metadata": {
    "collapsed": false
   },
   "outputs": [
    {
     "name": "stdout",
     "output_type": "stream",
     "text": [
      "[ 0.71304348  0.73913043  0.7826087   0.80263158  0.75877193]\n"
     ]
    }
   ],
   "source": [
    "rf = RandomForestClassifier(criterion=\"entropy\", n_estimators = 300, max_depth = 100)\n",
    "rf.fit(X, y)\n",
    "score = cross_validation.cross_val_score(rf, X, y, cv=5)\n",
    "\n",
    "print score"
   ]
  },
  {
   "cell_type": "code",
   "execution_count": null,
   "metadata": {
    "collapsed": true
   },
   "outputs": [],
   "source": [
    "rf.predict(X),y"
   ]
  }
 ],
 "metadata": {
  "kernelspec": {
   "display_name": "Python 2",
   "language": "python",
   "name": "python2"
  },
  "language_info": {
   "codemirror_mode": {
    "name": "ipython",
    "version": 2
   },
   "file_extension": ".py",
   "mimetype": "text/x-python",
   "name": "python",
   "nbconvert_exporter": "python",
   "pygments_lexer": "ipython2",
   "version": "2.7.11"
  }
 },
 "nbformat": 4,
 "nbformat_minor": 0
}
