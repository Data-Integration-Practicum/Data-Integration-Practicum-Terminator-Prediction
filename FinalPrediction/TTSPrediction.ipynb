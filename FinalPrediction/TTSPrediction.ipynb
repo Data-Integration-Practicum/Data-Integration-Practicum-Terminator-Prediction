{
 "cells": [
  {
   "cell_type": "code",
   "execution_count": null,
   "metadata": {
    "collapsed": true
   },
   "outputs": [],
   "source": [
    "from Bio import SeqIO\n",
    "import pandas as pd\n",
    "\n",
    "#open(\"CH1.fa\",\"w\") as f1\n",
    "columns = ['ID', 'Offset', 'Nearby Sequence']\n",
    "results = pd.DataFrame(columns=columns)\n",
    "\n",
    "for seq_record in SeqIO.parse(\"CH1.fa\", \"fasta\"):   \n",
    "    i = 0\n",
    "    while i + 400 < len(seq_record)\n",
    "        curSeq = str(seq_record[i:i+400])\n",
    "        predict == false\n",
    "        \n",
    "        if \"N\" not in curSeq:            \n",
    "        ##GENERATE FEATURE, PREDICT TTS, TTS => predict=true\n",
    "            \n",
    "            if predict == true:\n",
    "                ## add seq_record.id, offset(i+300), nearby sequence(str(seq_record[i+300:i+400])), to results dataframe\n",
    "                curDF = pd.DataFrame([[seq_record.id, i+300,str(seq_record[i+300:i+400])]], columns=columns)\n",
    "                results.append(curDF)\n",
    "                \n",
    "        i = i + 50\n",
    "\n",
    "results.to_csv('TTS.csv')\n"
   ]
  }
 ],
 "metadata": {
  "kernelspec": {
   "display_name": "Python 2",
   "language": "python",
   "name": "python2"
  },
  "language_info": {
   "codemirror_mode": {
    "name": "ipython",
    "version": 2
   },
   "file_extension": ".py",
   "mimetype": "text/x-python",
   "name": "python",
   "nbconvert_exporter": "python",
   "pygments_lexer": "ipython2",
   "version": "2.7.11"
  }
 },
 "nbformat": 4,
 "nbformat_minor": 0
}
